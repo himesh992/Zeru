{
  "nbformat": 4,
  "nbformat_minor": 0,
  "metadata": {
    "colab": {
      "provenance": []
    },
    "kernelspec": {
      "name": "python3",
      "display_name": "Python 3"
    },
    "language_info": {
      "name": "python"
    }
  },
  "cells": [
    {
      "cell_type": "code",
      "execution_count": null,
      "metadata": {
        "colab": {
          "base_uri": "https://localhost:8080/",
          "height": 74
        },
        "id": "opwjv8j4tH-W",
        "outputId": "a1c5106f-fd66-47ff-ca8f-9f06eebdf62f"
      },
      "outputs": [
        {
          "output_type": "display_data",
          "data": {
            "text/plain": [
              "<IPython.core.display.HTML object>"
            ],
            "text/html": [
              "\n",
              "     <input type=\"file\" id=\"files-3ba25a80-dac4-4134-ab70-bd76d2936a68\" name=\"files[]\" multiple disabled\n",
              "        style=\"border:none\" />\n",
              "     <output id=\"result-3ba25a80-dac4-4134-ab70-bd76d2936a68\">\n",
              "      Upload widget is only available when the cell has been executed in the\n",
              "      current browser session. Please rerun this cell to enable.\n",
              "      </output>\n",
              "      <script>// Copyright 2017 Google LLC\n",
              "//\n",
              "// Licensed under the Apache License, Version 2.0 (the \"License\");\n",
              "// you may not use this file except in compliance with the License.\n",
              "// You may obtain a copy of the License at\n",
              "//\n",
              "//      http://www.apache.org/licenses/LICENSE-2.0\n",
              "//\n",
              "// Unless required by applicable law or agreed to in writing, software\n",
              "// distributed under the License is distributed on an \"AS IS\" BASIS,\n",
              "// WITHOUT WARRANTIES OR CONDITIONS OF ANY KIND, either express or implied.\n",
              "// See the License for the specific language governing permissions and\n",
              "// limitations under the License.\n",
              "\n",
              "/**\n",
              " * @fileoverview Helpers for google.colab Python module.\n",
              " */\n",
              "(function(scope) {\n",
              "function span(text, styleAttributes = {}) {\n",
              "  const element = document.createElement('span');\n",
              "  element.textContent = text;\n",
              "  for (const key of Object.keys(styleAttributes)) {\n",
              "    element.style[key] = styleAttributes[key];\n",
              "  }\n",
              "  return element;\n",
              "}\n",
              "\n",
              "// Max number of bytes which will be uploaded at a time.\n",
              "const MAX_PAYLOAD_SIZE = 100 * 1024;\n",
              "\n",
              "function _uploadFiles(inputId, outputId) {\n",
              "  const steps = uploadFilesStep(inputId, outputId);\n",
              "  const outputElement = document.getElementById(outputId);\n",
              "  // Cache steps on the outputElement to make it available for the next call\n",
              "  // to uploadFilesContinue from Python.\n",
              "  outputElement.steps = steps;\n",
              "\n",
              "  return _uploadFilesContinue(outputId);\n",
              "}\n",
              "\n",
              "// This is roughly an async generator (not supported in the browser yet),\n",
              "// where there are multiple asynchronous steps and the Python side is going\n",
              "// to poll for completion of each step.\n",
              "// This uses a Promise to block the python side on completion of each step,\n",
              "// then passes the result of the previous step as the input to the next step.\n",
              "function _uploadFilesContinue(outputId) {\n",
              "  const outputElement = document.getElementById(outputId);\n",
              "  const steps = outputElement.steps;\n",
              "\n",
              "  const next = steps.next(outputElement.lastPromiseValue);\n",
              "  return Promise.resolve(next.value.promise).then((value) => {\n",
              "    // Cache the last promise value to make it available to the next\n",
              "    // step of the generator.\n",
              "    outputElement.lastPromiseValue = value;\n",
              "    return next.value.response;\n",
              "  });\n",
              "}\n",
              "\n",
              "/**\n",
              " * Generator function which is called between each async step of the upload\n",
              " * process.\n",
              " * @param {string} inputId Element ID of the input file picker element.\n",
              " * @param {string} outputId Element ID of the output display.\n",
              " * @return {!Iterable<!Object>} Iterable of next steps.\n",
              " */\n",
              "function* uploadFilesStep(inputId, outputId) {\n",
              "  const inputElement = document.getElementById(inputId);\n",
              "  inputElement.disabled = false;\n",
              "\n",
              "  const outputElement = document.getElementById(outputId);\n",
              "  outputElement.innerHTML = '';\n",
              "\n",
              "  const pickedPromise = new Promise((resolve) => {\n",
              "    inputElement.addEventListener('change', (e) => {\n",
              "      resolve(e.target.files);\n",
              "    });\n",
              "  });\n",
              "\n",
              "  const cancel = document.createElement('button');\n",
              "  inputElement.parentElement.appendChild(cancel);\n",
              "  cancel.textContent = 'Cancel upload';\n",
              "  const cancelPromise = new Promise((resolve) => {\n",
              "    cancel.onclick = () => {\n",
              "      resolve(null);\n",
              "    };\n",
              "  });\n",
              "\n",
              "  // Wait for the user to pick the files.\n",
              "  const files = yield {\n",
              "    promise: Promise.race([pickedPromise, cancelPromise]),\n",
              "    response: {\n",
              "      action: 'starting',\n",
              "    }\n",
              "  };\n",
              "\n",
              "  cancel.remove();\n",
              "\n",
              "  // Disable the input element since further picks are not allowed.\n",
              "  inputElement.disabled = true;\n",
              "\n",
              "  if (!files) {\n",
              "    return {\n",
              "      response: {\n",
              "        action: 'complete',\n",
              "      }\n",
              "    };\n",
              "  }\n",
              "\n",
              "  for (const file of files) {\n",
              "    const li = document.createElement('li');\n",
              "    li.append(span(file.name, {fontWeight: 'bold'}));\n",
              "    li.append(span(\n",
              "        `(${file.type || 'n/a'}) - ${file.size} bytes, ` +\n",
              "        `last modified: ${\n",
              "            file.lastModifiedDate ? file.lastModifiedDate.toLocaleDateString() :\n",
              "                                    'n/a'} - `));\n",
              "    const percent = span('0% done');\n",
              "    li.appendChild(percent);\n",
              "\n",
              "    outputElement.appendChild(li);\n",
              "\n",
              "    const fileDataPromise = new Promise((resolve) => {\n",
              "      const reader = new FileReader();\n",
              "      reader.onload = (e) => {\n",
              "        resolve(e.target.result);\n",
              "      };\n",
              "      reader.readAsArrayBuffer(file);\n",
              "    });\n",
              "    // Wait for the data to be ready.\n",
              "    let fileData = yield {\n",
              "      promise: fileDataPromise,\n",
              "      response: {\n",
              "        action: 'continue',\n",
              "      }\n",
              "    };\n",
              "\n",
              "    // Use a chunked sending to avoid message size limits. See b/62115660.\n",
              "    let position = 0;\n",
              "    do {\n",
              "      const length = Math.min(fileData.byteLength - position, MAX_PAYLOAD_SIZE);\n",
              "      const chunk = new Uint8Array(fileData, position, length);\n",
              "      position += length;\n",
              "\n",
              "      const base64 = btoa(String.fromCharCode.apply(null, chunk));\n",
              "      yield {\n",
              "        response: {\n",
              "          action: 'append',\n",
              "          file: file.name,\n",
              "          data: base64,\n",
              "        },\n",
              "      };\n",
              "\n",
              "      let percentDone = fileData.byteLength === 0 ?\n",
              "          100 :\n",
              "          Math.round((position / fileData.byteLength) * 100);\n",
              "      percent.textContent = `${percentDone}% done`;\n",
              "\n",
              "    } while (position < fileData.byteLength);\n",
              "  }\n",
              "\n",
              "  // All done.\n",
              "  yield {\n",
              "    response: {\n",
              "      action: 'complete',\n",
              "    }\n",
              "  };\n",
              "}\n",
              "\n",
              "scope.google = scope.google || {};\n",
              "scope.google.colab = scope.google.colab || {};\n",
              "scope.google.colab._files = {\n",
              "  _uploadFiles,\n",
              "  _uploadFilesContinue,\n",
              "};\n",
              "})(self);\n",
              "</script> "
            ]
          },
          "metadata": {}
        },
        {
          "output_type": "stream",
          "name": "stdout",
          "text": [
            "Saving user-wallet-transactions.json to user-wallet-transactions.json\n"
          ]
        }
      ],
      "source": [
        "from google.colab import files\n",
        "upload = files.upload()"
      ]
    },
    {
      "cell_type": "code",
      "source": [
        "import pandas as pd\n",
        "import numpy as np\n",
        "import json\n",
        "from sklearn.preprocessing import StandardScaler\n",
        "from sklearn.cluster import KMeans\n",
        "from sklearn.ensemble import RandomForestRegressor\n",
        "import matplotlib.pyplot as plt"
      ],
      "metadata": {
        "id": "qXOAQ_qEtL0r"
      },
      "execution_count": null,
      "outputs": []
    },
    {
      "cell_type": "code",
      "source": [
        "# Load the data\n",
        "with open('user-wallet-transactions.json', 'r') as f:\n",
        "    data = json.load(f)\n",
        "\n",
        "# Flatten and convert to DataFrame\n",
        "df = pd.json_normalize(data)\n",
        "\n",
        "# SAFELY Extract 'amount'\n",
        "if 'actionData' in df.columns:\n",
        "    df['amount'] = df['actionData'].apply(lambda x: x.get('amount') if isinstance(x, dict) and 'amount' in x else 0)\n",
        "elif 'actionData.amount' in df.columns:\n",
        "    df['amount'] = df['actionData.amount']\n",
        "else:\n",
        "    df['amount'] = 0  # fallback if not found"
      ],
      "metadata": {
        "id": "oyNfOfQutPXF"
      },
      "execution_count": null,
      "outputs": []
    },
    {
      "cell_type": "code",
      "source": [
        "\n",
        "# Group by userWallet and action type — count actions\n",
        "action_counts = df.groupby(['userWallet', 'action']).size().unstack(fill_value=0)\n",
        "\n",
        "# Sum of amounts per action per wallet\n",
        "amount_sums = df.groupby(['userWallet', 'action'])['amount'].sum().unstack(fill_value=0)\n",
        "\n",
        "# Total actions per wallet\n",
        "total_actions = df.groupby('userWallet').size().rename(\"total_actions\")\n",
        "\n",
        "# Combine all features\n",
        "features = action_counts.merge(amount_sums, left_index=True, right_index=True, suffixes=('', '_amount'))\n",
        "features = features.merge(total_actions, left_index=True, right_index=True)\n",
        "\n",
        "# Reset index for processing\n",
        "features.reset_index(inplace=True)\n",
        "\n",
        "# Clean up column names\n",
        "features.columns.name = 'action'\n",
        "\n",
        "# Convert amounts to float from wei (1e18)\n",
        "amount_cols = [col for col in features.columns if col.endswith('_amount')]\n",
        "for col in amount_cols:\n",
        "    features[col] = features[col].apply(lambda x: float(x) / 1e18 if isinstance(x, (int, float)) else 0)\n",
        "\n",
        "# Fill missing columns if actions are not present in all rows\n",
        "for col in ['deposit', 'borrow', 'repay', 'redeemunderlying', 'liquidationcall']:\n",
        "    if col not in features.columns:\n",
        "        features[col] = 0\n",
        "for col in ['deposit_amount', 'borrow_amount', 'repay_amount', 'redeemunderlying_amount', 'liquidationcall_amount']:\n",
        "    if col not in features.columns:\n",
        "        features[col] = 0.0"
      ],
      "metadata": {
        "id": "Z2XLOVxwtQG6"
      },
      "execution_count": null,
      "outputs": []
    },
    {
      "cell_type": "code",
      "source": [
        "# FEATURE SCALING & CLUSTERING\n",
        "\n",
        "scaler = StandardScaler()\n",
        "scaled_features = scaler.fit_transform(features.drop(['userWallet'], axis=1))"
      ],
      "metadata": {
        "id": "r9IqB77mtW0A"
      },
      "execution_count": null,
      "outputs": []
    },
    {
      "cell_type": "code",
      "source": [
        "# KMeans Clustering\n",
        "kmeans = KMeans(n_clusters=5, random_state=42)\n",
        "features['cluster'] = kmeans.fit_predict(scaled_features)"
      ],
      "metadata": {
        "id": "4XBEHdLbtYW-"
      },
      "execution_count": null,
      "outputs": []
    },
    {
      "cell_type": "code",
      "source": [
        "def base_score(row):\n",
        "    score = 500  # base score\n",
        "    score -= 200 * row['liquidationcall']\n",
        "    score += 50 * row['repay']\n",
        "\n",
        "    borrow_amt = row['borrow_amount']\n",
        "    deposit_amt = row['deposit_amount']\n",
        "    if deposit_amt > 0:\n",
        "        ratio = borrow_amt / deposit_amt\n",
        "        score -= 300 * ratio\n",
        "    elif borrow_amt > 0:\n",
        "        score -= 300\n",
        "    return max(0, min(1000, score))\n",
        "\n",
        "features['base_score'] = features.apply(base_score, axis=1)"
      ],
      "metadata": {
        "id": "BUDHBZJgtbAW"
      },
      "execution_count": null,
      "outputs": []
    },
    {
      "cell_type": "code",
      "source": [
        "# Train ML model on base_score\n",
        "ml_features = features.drop(columns=['userWallet', 'base_score', 'cluster'])\n",
        "y = features['base_score']\n",
        "\n",
        "model = RandomForestRegressor(n_estimators=100, random_state=42)\n",
        "model.fit(ml_features, y)\n",
        "features['score'] = model.predict(ml_features).clip(0, 1000)\n",
        "\n",
        "# Save results\n",
        "features[['userWallet', 'score', 'cluster']].to_csv(\"wallet_scores_ml.csv\", index=False)"
      ],
      "metadata": {
        "id": "beGk7uortdv0"
      },
      "execution_count": null,
      "outputs": []
    },
    {
      "cell_type": "code",
      "source": [
        "plt.figure(figsize=(10,6))\n",
        "plt.hist(features['score'], bins=50, color='skyblue')\n",
        "plt.title(\"Wallet Credit Score Distribution (ML)\")\n",
        "plt.xlabel(\"Score\")\n",
        "plt.ylabel(\"Number of Wallets\")\n",
        "plt.grid(True)\n",
        "plt.savefig(\"score_distribution_ml.png\")\n",
        "plt.show()\n",
        "\n",
        "print(\"✅ Advanced ML wallet scoring complete! Output saved to wallet_scores_ml.csv\")"
      ],
      "metadata": {
        "colab": {
          "base_uri": "https://localhost:8080/",
          "height": 582
        },
        "id": "pCFQjq97teQ7",
        "outputId": "bc249cd5-30c8-4db6-e993-a306dcdeeb28"
      },
      "execution_count": null,
      "outputs": [
        {
          "output_type": "display_data",
          "data": {
            "text/plain": [
              "<Figure size 1000x600 with 1 Axes>"
            ],
            "image/png": "[encoded data removed]"
          },
          "metadata": {}
        },
        {
          "output_type": "stream",
          "name": "stdout",
          "text": [
            "✅ Advanced ML wallet scoring complete! Output saved to wallet_scores_ml.csv\n"
          ]
        }
      ]
    }
  ]
}